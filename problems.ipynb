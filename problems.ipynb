{
 "cells": [
  {
   "cell_type": "markdown",
   "id": "74280ffa",
   "metadata": {},
   "source": [
    "# Computer Infrastructure Assignment - Autumn 2025\n",
    "\n",
    "## YFinance Assessment\n"
   ]
  },
  {
   "cell_type": "code",
   "execution_count": 28,
   "id": "64374c41",
   "metadata": {},
   "outputs": [],
   "source": [
    "# Imports\n",
    "\n",
    "# Dates and time\n",
    "import datetime as dt \n",
    "\n",
    "# Yahoo Finance data\n",
    "import yfinance as yf\n",
    "\n",
    "# Data frames\n",
    "import pandas as pd "
   ]
  },
  {
   "cell_type": "markdown",
   "id": "331a091d",
   "metadata": {},
   "source": [
    "## Problem 1: Data from yfinance"
   ]
  },
  {
   "cell_type": "markdown",
   "id": "7fe4d73d",
   "metadata": {},
   "source": [
    "Firstly, in this section I will use the yfinance Python package, already installed above. I will write a function called get_data() that downloads all hourly data for the previous five days for the five FAANG stocks:\n",
    "\n",
    "- Facebook (META)\n",
    "- Apple (AAPL)\n",
    "- Amazon (AMZN)\n",
    "- Netflix (NFLX)\n",
    "- Google (GOOG)\n",
    "\n",
    "I will then save the data that the function produces into the *data* folder, using a filename with the format YYYYMMDD-HHmmss.csv."
   ]
  },
  {
   "cell_type": "code",
   "execution_count": 29,
   "id": "ea984252",
   "metadata": {},
   "outputs": [
    {
     "name": "stderr",
     "output_type": "stream",
     "text": [
      "C:\\Users\\hniam\\AppData\\Local\\Temp\\ipykernel_28336\\2495335428.py:3: FutureWarning: YF.download() has changed argument auto_adjust default to True\n",
      "  df = yf.download(['META', 'AAPL', 'AMZN', 'NFLX', 'GOOG'], period='5d')\n",
      "[*********************100%***********************]  5 of 5 completed\n"
     ]
    }
   ],
   "source": [
    "# Collect data for all FAANG \n",
    "# stocks over past 5 days\n",
    "df = yf.download(['META', 'AAPL', 'AMZN', 'NFLX', 'GOOG'], period='5d')  \n",
    "\n",
    "# Check that yfinance successfully installed\n",
    "# df"
   ]
  },
  {
   "cell_type": "markdown",
   "id": "cffe3ee9",
   "metadata": {},
   "source": [
    "## Step 1:  \n",
    "Create function that downloads all hourly data for the previous five days"
   ]
  },
  {
   "cell_type": "code",
   "execution_count": null,
   "id": "e2bb9b54",
   "metadata": {},
   "outputs": [],
   "source": [
    "# Create function \n",
    "def get_data():\n",
    "    tickers = [\"META\", \"AAPL\", \"AMZN\", \"NFLX\", \"GOOG\"] # assign tickers\n",
    "    data = yf.download( #\n",
    "        tickers=tickers, #\n",
    "        period=\"5d\", #\n",
    "        interval=\"1h\", #\n",
    "        auto_adjust=False #\n",
    "    )\n",
    "\n",
    "    return data # \n",
    "\n",
    "# Call function\n",
    "# get_data()\n",
    "\n",
    "\n",
    "# https://realpython.com/defining-your-own-python-function/ \n",
    "# https://ranaroussi.github.io/yfinance/reference/api/yfinance.download.html"
   ]
  },
  {
   "cell_type": "markdown",
   "id": "9872b93c",
   "metadata": {},
   "source": [
    "# Step 2:\n",
    "Save dataframe to csv file in data folder\n",
    "using a filename with the format of the local date and time (i.e., YYYYMMDD-HHmmss.csv)"
   ]
  },
  {
   "cell_type": "code",
   "execution_count": null,
   "id": "7e32c5b2",
   "metadata": {},
   "outputs": [],
   "source": [
    "# get local date & time\n",
    "local = dt.datetime.now()\n",
    "\n",
    "# Save data as csv\n",
    "get_data().to_csv(\"./data/\" +  # save to data folder \n",
    "                  dt.datetime.now() #\n",
    "                  .strftime(\"%Y%m%d-%H%M%S\") #\n",
    "                  + \".csv\") #\n",
    "\n",
    "\n",
    "# https://pandas.pydata.org/pandas-docs/stable/reference/api/pandas.DataFrame.to_csv.html\n",
    "# https://docs.python.org/3/library/datetime.html "
   ]
  },
  {
   "cell_type": "markdown",
   "id": "1d118312",
   "metadata": {},
   "source": [
    "## Problem 2: Plotting Data"
   ]
  },
  {
   "cell_type": "markdown",
   "id": "1035b1e8",
   "metadata": {},
   "source": [
    "Write a function called plot_data() that opens the latest data file in the data folder and, on one plot, plots the Close prices for each of the five stocks. The plot should include axis labels, a legend, and the date as a title. The function should save the plot into a plots folder in the root of your repository using a filename in the format YYYYMMDD-HHmmss.png."
   ]
  },
  {
   "cell_type": "code",
   "execution_count": null,
   "id": "ca456026",
   "metadata": {},
   "outputs": [],
   "source": []
  },
  {
   "cell_type": "markdown",
   "id": "4863ca7f",
   "metadata": {},
   "source": [
    "## Problem 3: Script"
   ]
  },
  {
   "cell_type": "markdown",
   "id": "22d266f5",
   "metadata": {},
   "source": [
    "Create a Python script called faang.py in the root of your repository. Copy the above functions into it and it so that whenever someone at the terminal types ./faang.py, the script runs, downloading the data and creating the plot. Note that this will require a shebang line and the script to be marked executable. Explain the steps you took in your notebook."
   ]
  },
  {
   "cell_type": "code",
   "execution_count": null,
   "id": "f22e85b5",
   "metadata": {},
   "outputs": [],
   "source": []
  },
  {
   "cell_type": "markdown",
   "id": "64d867d7",
   "metadata": {},
   "source": [
    "## Problem 4: Automation"
   ]
  },
  {
   "cell_type": "markdown",
   "id": "e5be8da6",
   "metadata": {},
   "source": [
    "Create a GitHub Actions workflow to run your script every Saturday morning. The script should be called faang.yml in a .github/workflows/ folder in the root of your repository. In your notebook, explain each of the individual lines in your workflow."
   ]
  },
  {
   "cell_type": "markdown",
   "id": "1e3ea7d3",
   "metadata": {},
   "source": [
    "## End"
   ]
  }
 ],
 "metadata": {
  "kernelspec": {
   "display_name": "base",
   "language": "python",
   "name": "python3"
  },
  "language_info": {
   "codemirror_mode": {
    "name": "ipython",
    "version": 3
   },
   "file_extension": ".py",
   "mimetype": "text/x-python",
   "name": "python",
   "nbconvert_exporter": "python",
   "pygments_lexer": "ipython3",
   "version": "3.12.7"
  }
 },
 "nbformat": 4,
 "nbformat_minor": 5
}
