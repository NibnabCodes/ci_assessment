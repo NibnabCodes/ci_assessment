{
 "cells": [
  {
   "cell_type": "markdown",
   "id": "74280ffa",
   "metadata": {},
   "source": [
    "# Yfinance Assessment"
   ]
  },
  {
   "cell_type": "code",
   "execution_count": null,
   "id": "5a8d7f3c",
   "metadata": {},
   "outputs": [],
   "source": [
    "# Install yfinance\n",
    "\n",
    "%pip install yfinance"
   ]
  },
  {
   "cell_type": "code",
   "execution_count": 2,
   "id": "64374c41",
   "metadata": {},
   "outputs": [],
   "source": [
    "# Imports\n",
    "\n",
    "import numpy as np\n",
    "import yfinance as yf"
   ]
  },
  {
   "cell_type": "markdown",
   "id": "331a091d",
   "metadata": {},
   "source": [
    "## Problem 1: Data from yfinance"
   ]
  },
  {
   "cell_type": "markdown",
   "id": "7fe4d73d",
   "metadata": {},
   "source": [
    "Firstly, in this section I will use the yfinance Python package, already installed above. I will write a function called get_data() that downloads all hourly data for the previous five days for the five FAANG stocks:\n",
    "\n",
    "- Facebook (META)\n",
    "- Apple (AAPL)\n",
    "- Amazon (AMZN)\n",
    "- Netflix (NFLX)\n",
    "- Google (GOOG)\n",
    "\n",
    "I will then save the data that the function produces into the *data* folder, using a filename with the format YYYYMMDD-HHmmss.csv."
   ]
  },
  {
   "cell_type": "code",
   "execution_count": null,
   "id": "ea984252",
   "metadata": {},
   "outputs": [],
   "source": [
    "# Collect data for all FAANG \n",
    "# stocks over past 5 days\n",
    "df = yf.download(['META', 'AAPL', 'AMZN', 'NFLX', 'GOOG'], period='5d')  "
   ]
  },
  {
   "cell_type": "code",
   "execution_count": null,
   "id": "46251c91",
   "metadata": {},
   "outputs": [],
   "source": [
    "# Print data \n",
    "df"
   ]
  },
  {
   "cell_type": "markdown",
   "id": "1d118312",
   "metadata": {},
   "source": [
    "## Problem 2: Plotting Data"
   ]
  },
  {
   "cell_type": "markdown",
   "id": "4863ca7f",
   "metadata": {},
   "source": [
    "## Problem 3: Script"
   ]
  },
  {
   "cell_type": "markdown",
   "id": "64d867d7",
   "metadata": {},
   "source": [
    "## Problem 4: Automation"
   ]
  }
 ],
 "metadata": {
  "kernelspec": {
   "display_name": "Python 3",
   "language": "python",
   "name": "python3"
  },
  "language_info": {
   "codemirror_mode": {
    "name": "ipython",
    "version": 3
   },
   "file_extension": ".py",
   "mimetype": "text/x-python",
   "name": "python",
   "nbconvert_exporter": "python",
   "pygments_lexer": "ipython3",
   "version": "3.12.1"
  }
 },
 "nbformat": 4,
 "nbformat_minor": 5
}
